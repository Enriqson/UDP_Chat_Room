{
 "cells": [
  {
   "cell_type": "code",
   "execution_count": 5,
   "source": [
    "import socket\r\n",
    "import time"
   ],
   "outputs": [],
   "metadata": {}
  },
  {
   "cell_type": "code",
   "execution_count": 6,
   "source": [
    "SERVER_PORT = 12000\r\n",
    "BUFFER_SIZE = 2**(10+5) #32kb\r\n",
    "FILE_EXTENSION = \"mp4\"\r\n",
    "WAIT_PERIOD = 0.05"
   ],
   "outputs": [],
   "metadata": {}
  },
  {
   "cell_type": "code",
   "execution_count": 7,
   "source": [
    "server_socket = socket.socket(socket.AF_INET,socket.SOCK_DGRAM)\r\n",
    "server_socket.bind((\"127.0.0.1\",SERVER_PORT))\r\n",
    "print(\"Server ready to recieve\")"
   ],
   "outputs": [
    {
     "output_type": "stream",
     "name": "stdout",
     "text": [
      "Server ready to recieve\n"
     ]
    }
   ],
   "metadata": {}
  },
  {
   "cell_type": "code",
   "execution_count": 9,
   "source": [
    "try:\r\n",
    "    server_socket.sendto(str.encode(\"--\"),(\"127.0.0.1\",13000))\r\n",
    "    raise(\"a\")\r\n",
    "except:\r\n",
    "    print(\"dale\")"
   ],
   "outputs": [],
   "metadata": {}
  },
  {
   "cell_type": "code",
   "execution_count": 8,
   "source": [
    "\r\n",
    "while 1:\r\n",
    "    message,client_adress = server_socket.recvfrom(BUFFER_SIZE)\r\n",
    "    if message:\r\n",
    "        with open(\"server_file.\"+FILE_EXTENSION,\"wb\") as f:\r\n",
    "            while message!=b'--':\r\n",
    "                f.write(message)\r\n",
    "                message,client_adress = server_socket.recvfrom(BUFFER_SIZE)\r\n",
    "            f.close()\r\n",
    "\r\n",
    "        with open(\"server_file.\"+FILE_EXTENSION,\"rb\") as f:\r\n",
    "            data = f.read(BUFFER_SIZE)\r\n",
    "            while(data):\r\n",
    "                server_socket.sendto(data,client_adress)\r\n",
    "                #espera um periodo antes de enviar a proxima mensagem para garantir que os pacotes cheguem em ordem\r\n",
    "                time.sleep(WAIT_PERIOD)\r\n",
    "                data = f.read(BUFFER_SIZE)\r\n",
    "            server_socket.sendto(str.encode(\"--\"),client_adress)\r\n",
    "            f.close()"
   ],
   "outputs": [],
   "metadata": {}
  }
 ],
 "metadata": {
  "orig_nbformat": 4,
  "language_info": {
   "name": "python",
   "version": "3.7.10",
   "mimetype": "text/x-python",
   "codemirror_mode": {
    "name": "ipython",
    "version": 3
   },
   "pygments_lexer": "ipython3",
   "nbconvert_exporter": "python",
   "file_extension": ".py"
  },
  "kernelspec": {
   "name": "python3",
   "display_name": "Python 3.7.10 64-bit (virtualenv)"
  },
  "interpreter": {
   "hash": "7b4b4feff2f24a0f0a34464dbe537a36fda679851528fb8735cb41fa49dffb2d"
  }
 },
 "nbformat": 4,
 "nbformat_minor": 2
}