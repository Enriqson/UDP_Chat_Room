{
 "cells": [
  {
   "cell_type": "code",
   "execution_count": 1,
   "source": [
    "import common"
   ],
   "outputs": [],
   "metadata": {}
  },
  {
   "cell_type": "code",
   "execution_count": 2,
   "source": [
    "SERVER_PORT = 12000\r\n",
    "BUFFER_SIZE = 2**(10+5) #32kb"
   ],
   "outputs": [],
   "metadata": {}
  },
  {
   "cell_type": "code",
   "execution_count": 3,
   "source": [
    "server_socket = common.RDT_SERVER(server_adress=(\"127.0.0.1\",SERVER_PORT),timer_limit=10,buffer_size=BUFFER_SIZE)"
   ],
   "outputs": [],
   "metadata": {}
  },
  {
   "cell_type": "code",
   "execution_count": 4,
   "source": [
    "server_socket.start()\r\n"
   ],
   "outputs": [
    {
     "output_type": "stream",
     "name": "stdout",
     "text": [
      "Server ready to recieve\n",
      "Checando pacote novo\n",
      "mensagem recebida:hi, meu nome eh nomezaaaada\n",
      "Adicionando novo cliente nomezaaaada\n",
      "Fazendo broadcast\n",
      "enviando nomezaaaada entrou no chat pra('127.0.0.1', 13000)\n",
      "esperando ack do cliente\n",
      "Mandando ack para: ('127.0.0.1', 13000)\n",
      "esperando ack do cliente\n",
      "resposta chegou bunitinho\n",
      "Checando pacote novo\n",
      "Mandando ack para: ('127.0.0.1', 13000)\n",
      "Recebi um pacote bunitinho que dizia: {'CHECKSUM': None, 'SEQ': 1, 'ACK': 1, 'DATA': 'opa mein, tudo certinho?', 'IS_ACK': False}\n",
      "mensagem recebida:opa mein, tudo certinho?\n",
      "cliente enviou a mensagem:opa mein, tudo certinho?\n",
      "Fazendo broadcast\n",
      "enviando nomezaaaada :opa mein, tudo certinho? pra('127.0.0.1', 13000)\n",
      "esperando ack do cliente\n",
      "coisas estranhas aconteceram\n",
      "esperando ack do cliente\n",
      "coisas estranhas aconteceram\n",
      "esperando ack do cliente\n",
      "coisas estranhas aconteceram\n",
      "esperando ack do cliente\n",
      "coisas estranhas aconteceram\n"
     ]
    }
   ],
   "metadata": {}
  }
 ],
 "metadata": {
  "orig_nbformat": 4,
  "language_info": {
   "name": "python",
   "version": "3.7.10",
   "mimetype": "text/x-python",
   "codemirror_mode": {
    "name": "ipython",
    "version": 3
   },
   "pygments_lexer": "ipython3",
   "nbconvert_exporter": "python",
   "file_extension": ".py"
  },
  "kernelspec": {
   "name": "python3",
   "display_name": "Python 3.7.10 64-bit (virtualenv)"
  },
  "interpreter": {
   "hash": "7b4b4feff2f24a0f0a34464dbe537a36fda679851528fb8735cb41fa49dffb2d"
  }
 },
 "nbformat": 4,
 "nbformat_minor": 2
}