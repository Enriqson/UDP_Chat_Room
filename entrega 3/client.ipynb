{
 "cells": [
  {
   "cell_type": "code",
   "execution_count": 1,
   "source": [
    "import common\r\n",
    "from threading import Thread,Lock\r\n",
    "import time"
   ],
   "outputs": [],
   "metadata": {}
  },
  {
   "cell_type": "code",
   "execution_count": 2,
   "source": [
    "SERVER_IP = '127.0.0.1'\r\n",
    "SERVER_PORT = 12000\r\n",
    "BUFFER_SIZE = 2**(10+5) #32kb\r\n",
    "RESPONSE_TIME_LIMIT = 10\r\n",
    "INPUT_TIME_LIMIT = 5\r\n",
    "\r\n",
    "BASE_CLIENT_ADRESS = 13000\r\n",
    "client_port = BASE_CLIENT_ADRESS"
   ],
   "outputs": [],
   "metadata": {}
  },
  {
   "cell_type": "code",
   "execution_count": 3,
   "source": [
    "input_value=\"\"\r\n",
    "print(\"Digite seu nome para se conectar ao servidor\")\r\n",
    "input_value = input(\"hi, meu nome eh\\n\")\r\n",
    "\r\n",
    "client_socket=None\r\n",
    "while not client_socket:\r\n",
    "    try:\r\n",
    "        client_socket = common.RDT_client(client_port=client_port,server_adress=(SERVER_IP,SERVER_PORT),timer_limit=10,buffer_size=BUFFER_SIZE)\r\n",
    "    except: client_port+=1000\r\n",
    "client_socket.connect_to_server(input_value)"
   ],
   "outputs": [
    {
     "output_type": "error",
     "ename": "SyntaxError",
     "evalue": "invalid syntax (<ipython-input-3-3144dface8fb>, line 5)",
     "traceback": [
      "\u001b[1;36m  File \u001b[1;32m\"<ipython-input-3-3144dface8fb>\"\u001b[1;36m, line \u001b[1;32m5\u001b[0m\n\u001b[1;33m    client_port = input_value(\"Adicione a porta que deseja utilizar\"))]\u001b[0m\n\u001b[1;37m                                                                     ^\u001b[0m\n\u001b[1;31mSyntaxError\u001b[0m\u001b[1;31m:\u001b[0m invalid syntax\n"
     ]
    }
   ],
   "metadata": {}
  },
  {
   "cell_type": "code",
   "execution_count": null,
   "source": [
    "finished=False\r\n",
    "lock = Lock()"
   ],
   "outputs": [],
   "metadata": {}
  },
  {
   "cell_type": "code",
   "execution_count": null,
   "source": [
    "def receive_msg():\r\n",
    "    i =0\r\n",
    "    while not finished:\r\n",
    "        lock.acquire()\r\n",
    "        message = client_socket.receive()\r\n",
    "\r\n",
    "        if not message: i+=1\r\n",
    "        else: i=0\r\n",
    "        if i>5:\r\n",
    "            globals()['finished']=True\r\n",
    "\r\n",
    "        while message:\r\n",
    "            print(message, flush=True)\r\n",
    "            message = client_socket.receive()\r\n",
    "\r\n",
    "        lock.release()\r\n",
    "        \r\n",
    "        time.sleep(0.5)\r\n",
    "\r\n",
    "def get_input():\r\n",
    "    while not finished:\r\n",
    "        input_value =\"\"\r\n",
    "        try:\r\n",
    "            input_value =input(\"\")\r\n",
    "            print(\"\\033[A                             \\033[A\")\r\n",
    "        except EOFError: pass\r\n",
    "        if input_value: \r\n",
    "            lock.acquire()\r\n",
    "            client_socket.send(input_value)\r\n",
    "            lock.release()\r\n",
    "            if input_value=='bye': finished=False"
   ],
   "outputs": [],
   "metadata": {}
  },
  {
   "cell_type": "code",
   "execution_count": null,
   "source": [
    "message = client_socket.receive()\r\n",
    "print(message, flush=True)\r\n",
    "\r\n",
    "user_input_thread = Thread(target=get_input)\r\n",
    "input_timer_thread = Thread(target=receive_msg)\r\n",
    "user_input_thread.start()\r\n",
    "input_timer_thread.start()"
   ],
   "outputs": [
    {
     "output_type": "stream",
     "name": "stdout",
     "text": [
      "tirando mensagem guardada no buffer\n",
      "nomezaaaada entrou no chat\n",
      "procurando mensagem nova do server\n",
      "mandando salve\n",
      "esperando ack do server 2\n",
      "opa {'CHECKSUM': None, 'SEQ': 1, 'ACK': 2, 'DATA': '', 'IS_ACK': True}\n",
      "resposta chegou bunitinho\n",
      "procurando mensagem nova do server\n",
      "b\"{'CHECKSUM': None, 'SEQ': 1, 'ACK': 2, 'DATA': 'nomezaaaada :salve', 'IS_ACK': False}\"\n",
      "Mandando ack\n",
      "nomezaaaada :salve\n",
      "procurando mensagem nova do server\n",
      "procurando mensagem nova do server\n",
      "procurando mensagem nova do server\n",
      "procurando mensagem nova do server\n",
      "procurando mensagem nova do server\n",
      "procurando mensagem nova do server\n"
     ]
    }
   ],
   "metadata": {}
  }
 ],
 "metadata": {
  "orig_nbformat": 4,
  "language_info": {
   "name": "python",
   "version": "3.7.10",
   "mimetype": "text/x-python",
   "codemirror_mode": {
    "name": "ipython",
    "version": 3
   },
   "pygments_lexer": "ipython3",
   "nbconvert_exporter": "python",
   "file_extension": ".py"
  },
  "kernelspec": {
   "name": "python3",
   "display_name": "Python 3.7.10 64-bit (virtualenv)"
  },
  "interpreter": {
   "hash": "7b4b4feff2f24a0f0a34464dbe537a36fda679851528fb8735cb41fa49dffb2d"
  }
 },
 "nbformat": 4,
 "nbformat_minor": 2
}