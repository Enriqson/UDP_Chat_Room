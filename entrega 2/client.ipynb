{
 "cells": [
  {
   "cell_type": "code",
   "execution_count": 1,
   "source": [
    "import socket\r\n",
    "import common"
   ],
   "outputs": [],
   "metadata": {}
  },
  {
   "cell_type": "code",
   "execution_count": 2,
   "source": [
    "MY_PORT = 13000\r\n",
    "DEST_PORT = 12000\r\n",
    "BUFFER_SIZE = 2**(11) #32kb\r\n",
    "TIMER_LIMIT = 100\r\n",
    "STATE = 2"
   ],
   "outputs": [],
   "metadata": {}
  },
  {
   "cell_type": "code",
   "execution_count": 3,
   "source": [
    "server_socket = socket.socket(socket.AF_INET,socket.SOCK_DGRAM)\r\n",
    "server_socket.bind((\"127.0.0.1\",MY_PORT))\r\n",
    "print(\"Server ready to recieve\")\r\n",
    "data_feeder = common.Data_Feeder(\"base_first_reciever.png\",300)\r\n",
    "data_saver = common.Data_Saver(\"first_reciever_recieved.jpg\")\r\n",
    "client_adress = (\"127.0.0.1\",DEST_PORT)"
   ],
   "outputs": [
    {
     "output_type": "stream",
     "name": "stdout",
     "text": [
      "Server ready to recieve\n"
     ]
    }
   ],
   "metadata": {}
  },
  {
   "cell_type": "code",
   "execution_count": 4,
   "source": [
    "#esse espera a conexao ser iniciada pela outra parte\r\n",
    "common.Rdt(server_socket,data_feeder,data_saver,False,client_adress,TIMER_LIMIT,BUFFER_SIZE).transmit()"
   ],
   "outputs": [],
   "metadata": {}
  }
 ],
 "metadata": {
  "orig_nbformat": 4,
  "language_info": {
   "name": "python",
   "version": "3.7.10",
   "mimetype": "text/x-python",
   "codemirror_mode": {
    "name": "ipython",
    "version": 3
   },
   "pygments_lexer": "ipython3",
   "nbconvert_exporter": "python",
   "file_extension": ".py"
  },
  "kernelspec": {
   "name": "python3",
   "display_name": "Python 3.7.10 64-bit (virtualenv)"
  },
  "interpreter": {
   "hash": "7b4b4feff2f24a0f0a34464dbe537a36fda679851528fb8735cb41fa49dffb2d"
  }
 },
 "nbformat": 4,
 "nbformat_minor": 2
}